{
 "cells": [
  {
   "cell_type": "code",
   "execution_count": 1,
   "metadata": {},
   "outputs": [],
   "source": [
    "import numpy as np\n",
    "import os\n",
    "import copy\n",
    "#Setting the path\n",
    "target_object = \"statue_head\"   #Change the target object here\n",
    "cwd = os.getcwd()\n",
    "cwd = cwd.split('/')[:-1]\n",
    "eval_array_path = copy.deepcopy(cwd)\n",
    "eval_array_path.append(\"Algorithms_Results/\"+target_object+\"/\")\n",
    "eval_array_path = '/'.join(eval_array_path)\n",
    "# Reading all the .csv files generated from the different algorithm versions\n",
    "bkgrd_only_array = np.genfromtxt(eval_array_path+\"bkgrd_only.csv\",delimiter=',')\n",
    "color_only_array = np.genfromtxt(eval_array_path+\"color_only.csv\",delimiter=',')\n",
    "bkgrd_and_color_array = np.genfromtxt(eval_array_path+\"bkgrd_and_color.csv\",delimiter=',')\n",
    "\n",
    "multiplane_bkgrd_only_array = np.genfromtxt(eval_array_path+\"multiplane_bkgrd_only.csv\",delimiter=',')\n",
    "multiplane_color_only_array = np.genfromtxt(eval_array_path+\"multiplane_color_only.csv\",delimiter=',')\n",
    "multiplane_bkgrd_and_color_array = np.genfromtxt(eval_array_path+\"multiplane_bkgrd_and_color.csv\",delimiter=',')\n",
    "# Assigning the ground truth to the array generated from the algorithm that offered \n",
    "# the highest quality 3D shape\n",
    "grd_truth_array = bkgrd_only_array\n",
    "\n",
    "# Calculating the accuracy of each algorithm version using voxels matching\n",
    "bkgrd_only_acc = np.mean(bkgrd_only_array == grd_truth_array)*100\n",
    "color_only_acc = np.mean(color_only_array == grd_truth_array)*100\n",
    "bkgrd_and_color_acc = np.mean(bkgrd_and_color_array == grd_truth_array)*100\n",
    "\n",
    "multiplane_bkgrd_only_acc = np.mean(multiplane_bkgrd_only_array == grd_truth_array)*100\n",
    "multiplane_color_only_acc = np.mean(multiplane_color_only_array == grd_truth_array)*100\n",
    "multiplane_bkgrd_and_color_acc = np.mean(multiplane_bkgrd_and_color_array == grd_truth_array)*100\n"
   ]
  },
  {
   "cell_type": "code",
   "execution_count": 2,
   "metadata": {},
   "outputs": [
    {
     "name": "stdout",
     "output_type": "stream",
     "text": [
      "Object: statue_head\n",
      "Background only accuracy:  100.0\n",
      "Multiplane background only accuracy:  98.38392857142857\n",
      "Color only accuracy:  82.65699404761905\n",
      "Multiplane color only accuracy:  68.6235119047619\n",
      "Background and color accuracy:  94.87351190476191\n",
      "Multiplane background and color accuracy:  97.49776785714286\n"
     ]
    }
   ],
   "source": [
    "print(\"Object: \"+ target_object)\n",
    "print(\"Background only accuracy: \", bkgrd_only_acc)\n",
    "print(\"Multiplane background only accuracy: \", multiplane_bkgrd_only_acc)\n",
    "\n",
    "print(\"Color only accuracy: \", color_only_acc)\n",
    "print(\"Multiplane color only accuracy: \", multiplane_color_only_acc)\n",
    "\n",
    "print(\"Background and color accuracy: \", bkgrd_and_color_acc)\n",
    "print(\"Multiplane background and color accuracy: \", multiplane_bkgrd_and_color_acc)"
   ]
  },
  {
   "cell_type": "code",
   "execution_count": null,
   "metadata": {},
   "outputs": [],
   "source": []
  }
 ],
 "metadata": {
  "interpreter": {
   "hash": "a637e193f53981d1e64f22216266364502361fcff449fa8b8404dcfba27454ed"
  },
  "kernelspec": {
   "display_name": "Python 3.9.7 ('sys809')",
   "language": "python",
   "name": "python3"
  },
  "language_info": {
   "codemirror_mode": {
    "name": "ipython",
    "version": 3
   },
   "file_extension": ".py",
   "mimetype": "text/x-python",
   "name": "python",
   "nbconvert_exporter": "python",
   "pygments_lexer": "ipython3",
   "version": "3.9.7"
  },
  "orig_nbformat": 4
 },
 "nbformat": 4,
 "nbformat_minor": 2
}
