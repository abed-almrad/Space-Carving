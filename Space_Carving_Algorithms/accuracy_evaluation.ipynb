{
 "cells": [
  {
   "cell_type": "code",
   "execution_count": 1,
   "metadata": {},
   "outputs": [
    {
     "ename": "OSError",
     "evalue": "bkgrd_and_color_only.csv not found.",
     "output_type": "error",
     "traceback": [
      "\u001b[0;31m---------------------------------------------------------------------------\u001b[0m",
      "\u001b[0;31mOSError\u001b[0m                                   Traceback (most recent call last)",
      "\u001b[1;32m/home/abed/Documents/ETS_Files/Winter_2022/Computer_Vision/Project/Space_Carving_Project/Space_Carving/Space_Carving_Algorithms/accuracy_evaluation.ipynb Cell 1'\u001b[0m in \u001b[0;36m<module>\u001b[0;34m\u001b[0m\n\u001b[1;32m      <a href='vscode-notebook-cell:/home/abed/Documents/ETS_Files/Winter_2022/Computer_Vision/Project/Space_Carving_Project/Space_Carving/Space_Carving_Algorithms/accuracy_evaluation.ipynb#ch0000000?line=3'>4</a>\u001b[0m bkgrd_only_array \u001b[39m=\u001b[39m np\u001b[39m.\u001b[39mgenfromtxt(\u001b[39m'\u001b[39m\u001b[39mbkgrd_only.csv\u001b[39m\u001b[39m'\u001b[39m,delimiter\u001b[39m=\u001b[39m\u001b[39m'\u001b[39m\u001b[39m,\u001b[39m\u001b[39m'\u001b[39m)\n\u001b[1;32m      <a href='vscode-notebook-cell:/home/abed/Documents/ETS_Files/Winter_2022/Computer_Vision/Project/Space_Carving_Project/Space_Carving/Space_Carving_Algorithms/accuracy_evaluation.ipynb#ch0000000?line=4'>5</a>\u001b[0m color_only_array \u001b[39m=\u001b[39m np\u001b[39m.\u001b[39mgenfromtxt(\u001b[39m'\u001b[39m\u001b[39mcolor_only.csv\u001b[39m\u001b[39m'\u001b[39m,delimiter\u001b[39m=\u001b[39m\u001b[39m'\u001b[39m\u001b[39m,\u001b[39m\u001b[39m'\u001b[39m)\n\u001b[0;32m----> <a href='vscode-notebook-cell:/home/abed/Documents/ETS_Files/Winter_2022/Computer_Vision/Project/Space_Carving_Project/Space_Carving/Space_Carving_Algorithms/accuracy_evaluation.ipynb#ch0000000?line=5'>6</a>\u001b[0m bkgrd_and_color_array \u001b[39m=\u001b[39m np\u001b[39m.\u001b[39;49mgenfromtxt(\u001b[39m'\u001b[39;49m\u001b[39mbkgrd_and_color_only.csv\u001b[39;49m\u001b[39m'\u001b[39;49m,delimiter\u001b[39m=\u001b[39;49m\u001b[39m'\u001b[39;49m\u001b[39m,\u001b[39;49m\u001b[39m'\u001b[39;49m)\n\u001b[1;32m      <a href='vscode-notebook-cell:/home/abed/Documents/ETS_Files/Winter_2022/Computer_Vision/Project/Space_Carving_Project/Space_Carving/Space_Carving_Algorithms/accuracy_evaluation.ipynb#ch0000000?line=7'>8</a>\u001b[0m \u001b[39m# Assigning the ground truth to the array generated from the algorithm that offered \u001b[39;00m\n\u001b[1;32m      <a href='vscode-notebook-cell:/home/abed/Documents/ETS_Files/Winter_2022/Computer_Vision/Project/Space_Carving_Project/Space_Carving/Space_Carving_Algorithms/accuracy_evaluation.ipynb#ch0000000?line=8'>9</a>\u001b[0m \u001b[39m# the highest quality 3D shape\u001b[39;00m\n\u001b[1;32m     <a href='vscode-notebook-cell:/home/abed/Documents/ETS_Files/Winter_2022/Computer_Vision/Project/Space_Carving_Project/Space_Carving/Space_Carving_Algorithms/accuracy_evaluation.ipynb#ch0000000?line=9'>10</a>\u001b[0m grd_truth_array \u001b[39m=\u001b[39m bkgrd_only_array\n",
      "File \u001b[0;32m~/anaconda3/envs/sys809/lib/python3.9/site-packages/numpy/lib/npyio.py:1791\u001b[0m, in \u001b[0;36mgenfromtxt\u001b[0;34m(fname, dtype, comments, delimiter, skip_header, skip_footer, converters, missing_values, filling_values, usecols, names, excludelist, deletechars, replace_space, autostrip, case_sensitive, defaultfmt, unpack, usemask, loose, invalid_raise, max_rows, encoding, like)\u001b[0m\n\u001b[1;32m   <a href='file:///~/anaconda3/envs/sys809/lib/python3.9/site-packages/numpy/lib/npyio.py?line=1788'>1789</a>\u001b[0m     fname \u001b[39m=\u001b[39m os_fspath(fname)\n\u001b[1;32m   <a href='file:///~/anaconda3/envs/sys809/lib/python3.9/site-packages/numpy/lib/npyio.py?line=1789'>1790</a>\u001b[0m \u001b[39mif\u001b[39;00m \u001b[39misinstance\u001b[39m(fname, \u001b[39mstr\u001b[39m):\n\u001b[0;32m-> <a href='file:///~/anaconda3/envs/sys809/lib/python3.9/site-packages/numpy/lib/npyio.py?line=1790'>1791</a>\u001b[0m     fid \u001b[39m=\u001b[39m np\u001b[39m.\u001b[39;49mlib\u001b[39m.\u001b[39;49m_datasource\u001b[39m.\u001b[39;49mopen(fname, \u001b[39m'\u001b[39;49m\u001b[39mrt\u001b[39;49m\u001b[39m'\u001b[39;49m, encoding\u001b[39m=\u001b[39;49mencoding)\n\u001b[1;32m   <a href='file:///~/anaconda3/envs/sys809/lib/python3.9/site-packages/numpy/lib/npyio.py?line=1791'>1792</a>\u001b[0m     fid_ctx \u001b[39m=\u001b[39m contextlib\u001b[39m.\u001b[39mclosing(fid)\n\u001b[1;32m   <a href='file:///~/anaconda3/envs/sys809/lib/python3.9/site-packages/numpy/lib/npyio.py?line=1792'>1793</a>\u001b[0m \u001b[39melse\u001b[39;00m:\n",
      "File \u001b[0;32m~/anaconda3/envs/sys809/lib/python3.9/site-packages/numpy/lib/_datasource.py:194\u001b[0m, in \u001b[0;36mopen\u001b[0;34m(path, mode, destpath, encoding, newline)\u001b[0m\n\u001b[1;32m    <a href='file:///~/anaconda3/envs/sys809/lib/python3.9/site-packages/numpy/lib/_datasource.py?line=156'>157</a>\u001b[0m \u001b[39m\"\"\"\u001b[39;00m\n\u001b[1;32m    <a href='file:///~/anaconda3/envs/sys809/lib/python3.9/site-packages/numpy/lib/_datasource.py?line=157'>158</a>\u001b[0m \u001b[39mOpen `path` with `mode` and return the file object.\u001b[39;00m\n\u001b[1;32m    <a href='file:///~/anaconda3/envs/sys809/lib/python3.9/site-packages/numpy/lib/_datasource.py?line=158'>159</a>\u001b[0m \n\u001b[0;32m   (...)\u001b[0m\n\u001b[1;32m    <a href='file:///~/anaconda3/envs/sys809/lib/python3.9/site-packages/numpy/lib/_datasource.py?line=189'>190</a>\u001b[0m \n\u001b[1;32m    <a href='file:///~/anaconda3/envs/sys809/lib/python3.9/site-packages/numpy/lib/_datasource.py?line=190'>191</a>\u001b[0m \u001b[39m\"\"\"\u001b[39;00m\n\u001b[1;32m    <a href='file:///~/anaconda3/envs/sys809/lib/python3.9/site-packages/numpy/lib/_datasource.py?line=192'>193</a>\u001b[0m ds \u001b[39m=\u001b[39m DataSource(destpath)\n\u001b[0;32m--> <a href='file:///~/anaconda3/envs/sys809/lib/python3.9/site-packages/numpy/lib/_datasource.py?line=193'>194</a>\u001b[0m \u001b[39mreturn\u001b[39;00m ds\u001b[39m.\u001b[39;49mopen(path, mode, encoding\u001b[39m=\u001b[39;49mencoding, newline\u001b[39m=\u001b[39;49mnewline)\n",
      "File \u001b[0;32m~/anaconda3/envs/sys809/lib/python3.9/site-packages/numpy/lib/_datasource.py:531\u001b[0m, in \u001b[0;36mDataSource.open\u001b[0;34m(self, path, mode, encoding, newline)\u001b[0m\n\u001b[1;32m    <a href='file:///~/anaconda3/envs/sys809/lib/python3.9/site-packages/numpy/lib/_datasource.py?line=527'>528</a>\u001b[0m     \u001b[39mreturn\u001b[39;00m _file_openers[ext](found, mode\u001b[39m=\u001b[39mmode,\n\u001b[1;32m    <a href='file:///~/anaconda3/envs/sys809/lib/python3.9/site-packages/numpy/lib/_datasource.py?line=528'>529</a>\u001b[0m                               encoding\u001b[39m=\u001b[39mencoding, newline\u001b[39m=\u001b[39mnewline)\n\u001b[1;32m    <a href='file:///~/anaconda3/envs/sys809/lib/python3.9/site-packages/numpy/lib/_datasource.py?line=529'>530</a>\u001b[0m \u001b[39melse\u001b[39;00m:\n\u001b[0;32m--> <a href='file:///~/anaconda3/envs/sys809/lib/python3.9/site-packages/numpy/lib/_datasource.py?line=530'>531</a>\u001b[0m     \u001b[39mraise\u001b[39;00m \u001b[39mIOError\u001b[39;00m(\u001b[39m\"\u001b[39m\u001b[39m%s\u001b[39;00m\u001b[39m not found.\u001b[39m\u001b[39m\"\u001b[39m \u001b[39m%\u001b[39m path)\n",
      "\u001b[0;31mOSError\u001b[0m: bkgrd_and_color_only.csv not found."
     ]
    }
   ],
   "source": [
    "import numpy as np\n",
    "\n",
    "# Reading all the .csv files generated from the different algorithm versions\n",
    "bkgrd_only_array = np.genfromtxt('bkgrd_only.csv',delimiter=',')\n",
    "color_only_array = np.genfromtxt('color_only.csv',delimiter=',')\n",
    "bkgrd_and_color_array = np.genfromtxt('bkgrd_and_color.csv',delimiter=',')\n",
    "\n",
    "# Assigning the ground truth to the array generated from the algorithm that offered \n",
    "# the highest quality 3D shape\n",
    "grd_truth_array = bkgrd_only_array\n",
    "\n",
    "# Calculating the accuracy of each algorithm version using voxels matching\n",
    "bkgrd_only_acc = np.mean(bkgrd_only_array == grd_truth_array)*100\n",
    "color_only_acc = np.mean(color_only_array == grd_truth_array)*100\n",
    "bkgrd_and_color_acc = np.mean(bkgrd_and_color_array == grd_truth_array)*100\n"
   ]
  },
  {
   "cell_type": "code",
   "execution_count": 3,
   "metadata": {},
   "outputs": [
    {
     "name": "stdout",
     "output_type": "stream",
     "text": [
      "100.0\n"
     ]
    }
   ],
   "source": [
    "print(\"Background only accuracy: \", bkgrd_only_acc)\n",
    "print(\"Color only accuracy: \", color_only_acc)\n",
    "print(\"Background and color accuracy: \", bkgrd_and_color_acc)"
   ]
  }
 ],
 "metadata": {
  "interpreter": {
   "hash": "a637e193f53981d1e64f22216266364502361fcff449fa8b8404dcfba27454ed"
  },
  "kernelspec": {
   "display_name": "Python 3.9.7 ('sys809')",
   "language": "python",
   "name": "python3"
  },
  "language_info": {
   "codemirror_mode": {
    "name": "ipython",
    "version": 3
   },
   "file_extension": ".py",
   "mimetype": "text/x-python",
   "name": "python",
   "nbconvert_exporter": "python",
   "pygments_lexer": "ipython3",
   "version": "3.9.7"
  },
  "orig_nbformat": 4
 },
 "nbformat": 4,
 "nbformat_minor": 2
}
