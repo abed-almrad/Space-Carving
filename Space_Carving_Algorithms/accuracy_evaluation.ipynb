{
 "cells": [
  {
   "cell_type": "code",
   "execution_count": 2,
   "metadata": {},
   "outputs": [],
   "source": [
    "import numpy as np\n",
    "\n",
    "# Reading all the .csv files generated from the different algorithm versions\n",
    "bkgrd_only_array = np.genfromtxt('background_only.csv',delimiter=',')\n",
    "\n",
    "# Assigning the ground truth to the array generated from the algorithm that offered \n",
    "# the highest quality 3D shape\n",
    "grd_truth_array = bkgrd_only_array\n",
    "\n",
    "# Calculating the accuracy of each algorithm version using voxels matching\n",
    "bkgrd_only_acc = np.mean(bkgrd_only_array == grd_truth_array)*100\n"
   ]
  },
  {
   "cell_type": "code",
   "execution_count": 3,
   "metadata": {},
   "outputs": [
    {
     "name": "stdout",
     "output_type": "stream",
     "text": [
      "100.0\n"
     ]
    }
   ],
   "source": [
    "print(bkgrd_only_acc)"
   ]
  }
 ],
 "metadata": {
  "interpreter": {
   "hash": "a637e193f53981d1e64f22216266364502361fcff449fa8b8404dcfba27454ed"
  },
  "kernelspec": {
   "display_name": "Python 3.9.7 ('sys809')",
   "language": "python",
   "name": "python3"
  },
  "language_info": {
   "codemirror_mode": {
    "name": "ipython",
    "version": 3
   },
   "file_extension": ".py",
   "mimetype": "text/x-python",
   "name": "python",
   "nbconvert_exporter": "python",
   "pygments_lexer": "ipython3",
   "version": "3.9.7"
  },
  "orig_nbformat": 4
 },
 "nbformat": 4,
 "nbformat_minor": 2
}
